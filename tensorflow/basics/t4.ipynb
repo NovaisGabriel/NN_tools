{
 "cells": [
  {
   "cell_type": "code",
   "execution_count": 1,
   "metadata": {},
   "outputs": [],
   "source": [
    "import tensorflow as tf\n",
    "import numpy as np\n"
   ]
  },
  {
   "cell_type": "code",
   "execution_count": 2,
   "metadata": {},
   "outputs": [
    {
     "data": {
      "text/plain": [
       "<tf.Tensor: shape=(2,), dtype=int32, numpy=array([ -7, -10])>"
      ]
     },
     "execution_count": 2,
     "metadata": {},
     "output_type": "execute_result"
    }
   ],
   "source": [
    "D = tf.constant([-7,-10])\n",
    "D"
   ]
  },
  {
   "cell_type": "code",
   "execution_count": 3,
   "metadata": {},
   "outputs": [
    {
     "data": {
      "text/plain": [
       "<tf.Tensor: shape=(2,), dtype=int32, numpy=array([ 7, 10])>"
      ]
     },
     "execution_count": 3,
     "metadata": {},
     "output_type": "execute_result"
    }
   ],
   "source": [
    "tf.abs(D)"
   ]
  },
  {
   "cell_type": "code",
   "execution_count": 16,
   "metadata": {},
   "outputs": [
    {
     "data": {
      "text/plain": [
       "<tf.Tensor: shape=(50,), dtype=int32, numpy=\n",
       "array([24, 91, 49, 37, 77, 11, 75, 77,  3, 67, 13, 34, 25, 37, 22, 21, 49,\n",
       "       77, 47, 47, 97,  2, 24, 20, 33, 95, 55, 40, 54, 94, 10, 33, 48, 95,\n",
       "        3, 65, 15, 81, 66, 77, 30, 87, 23, 50, 81, 33, 51,  8, 42, 81])>"
      ]
     },
     "execution_count": 16,
     "metadata": {},
     "output_type": "execute_result"
    }
   ],
   "source": [
    "E = tf.random.uniform(minval=1,maxval=100, shape=(50,), dtype=tf.int32)\n",
    "E"
   ]
  },
  {
   "cell_type": "code",
   "execution_count": 18,
   "metadata": {},
   "outputs": [
    {
     "data": {
      "text/plain": [
       "(<tf.Tensor: shape=(), dtype=int32, numpy=50>, TensorShape([50]), 1)"
      ]
     },
     "execution_count": 18,
     "metadata": {},
     "output_type": "execute_result"
    }
   ],
   "source": [
    "tf.size(E), E.shape, E.ndim"
   ]
  },
  {
   "cell_type": "code",
   "execution_count": 20,
   "metadata": {},
   "outputs": [
    {
     "data": {
      "text/plain": [
       "(<tf.Tensor: shape=(), dtype=int32, numpy=2>,\n",
       " <tf.Tensor: shape=(), dtype=int32, numpy=97>)"
      ]
     },
     "execution_count": 20,
     "metadata": {},
     "output_type": "execute_result"
    }
   ],
   "source": [
    "tf.reduce_min(E), tf.reduce_max(E)"
   ]
  },
  {
   "cell_type": "code",
   "execution_count": null,
   "metadata": {},
   "outputs": [
    {
     "ename": "AttributeError",
     "evalue": "module 'tensorflow' has no attribute 'reduce_std'",
     "output_type": "error",
     "traceback": [
      "\u001b[1;31m---------------------------------------------------------------------------\u001b[0m",
      "\u001b[1;31mAttributeError\u001b[0m                            Traceback (most recent call last)",
      "Cell \u001b[1;32mIn[23], line 1\u001b[0m\n\u001b[1;32m----> 1\u001b[0m tf\u001b[38;5;241m.\u001b[39mreduce_mean(E), tf\u001b[38;5;241m.\u001b[39mreduce_sum(E), tf\u001b[38;5;241m.\u001b[39mreduce_std(E)\n",
      "\u001b[1;31mAttributeError\u001b[0m: module 'tensorflow' has no attribute 'reduce_std'"
     ]
    }
   ],
   "source": [
    "tf.reduce_mean(E), tf.reduce_sum(E)"
   ]
  },
  {
   "cell_type": "code",
   "execution_count": 24,
   "metadata": {},
   "outputs": [],
   "source": [
    "import tensorflow.math as tfm"
   ]
  },
  {
   "cell_type": "code",
   "execution_count": 29,
   "metadata": {},
   "outputs": [
    {
     "name": "stdout",
     "output_type": "stream",
     "text": [
      "tf.Tensor(28.16, shape=(), dtype=float16)\n",
      "tf.Tensor(793.0, shape=(), dtype=float16)\n"
     ]
    }
   ],
   "source": [
    "F = tf.cast(E, dtype=tf.float16)\n",
    "print(tfm.reduce_std(F))\n",
    "print(tfm.reduce_variance(F))"
   ]
  },
  {
   "cell_type": "code",
   "execution_count": 33,
   "metadata": {},
   "outputs": [
    {
     "data": {
      "text/plain": [
       "<tf.Tensor: shape=(50,), dtype=float32, numpy=\n",
       "array([0.39445388, 0.34720576, 0.5855731 , 0.53474474, 0.66461825,\n",
       "       0.7860304 , 0.50751615, 0.34618235, 0.6234963 , 0.60007584,\n",
       "       0.57961404, 0.4418726 , 0.76675916, 0.04946852, 0.33756638,\n",
       "       0.24972022, 0.9523412 , 0.5588535 , 0.6556783 , 0.5953078 ,\n",
       "       0.41728377, 0.9051769 , 0.11893487, 0.51162016, 0.7243432 ,\n",
       "       0.58774364, 0.65013564, 0.02139282, 0.4515134 , 0.93678033,\n",
       "       0.750208  , 0.536664  , 0.49462044, 0.54543257, 0.5373219 ,\n",
       "       0.08779955, 0.08407152, 0.5665678 , 0.08243775, 0.05743682,\n",
       "       0.21549535, 0.47094023, 0.39016628, 0.7990161 , 0.67207503,\n",
       "       0.17760527, 0.9395387 , 0.06606305, 0.48892212, 0.95825243],\n",
       "      dtype=float32)>"
      ]
     },
     "execution_count": 33,
     "metadata": {},
     "output_type": "execute_result"
    }
   ],
   "source": [
    "T = tf.random.uniform(shape=(50,))\n",
    "T"
   ]
  },
  {
   "cell_type": "code",
   "execution_count": 35,
   "metadata": {},
   "outputs": [
    {
     "data": {
      "text/plain": [
       "<tf.Tensor: shape=(), dtype=int64, numpy=49>"
      ]
     },
     "execution_count": 35,
     "metadata": {},
     "output_type": "execute_result"
    }
   ],
   "source": [
    "maxarg = tf.argmax(T)\n",
    "maxarg"
   ]
  },
  {
   "cell_type": "code",
   "execution_count": 36,
   "metadata": {},
   "outputs": [
    {
     "data": {
      "text/plain": [
       "<tf.Tensor: shape=(), dtype=float32, numpy=0.9582524299621582>"
      ]
     },
     "execution_count": 36,
     "metadata": {},
     "output_type": "execute_result"
    }
   ],
   "source": [
    "T[maxarg]"
   ]
  },
  {
   "cell_type": "code",
   "execution_count": 37,
   "metadata": {},
   "outputs": [
    {
     "data": {
      "text/plain": [
       "<tf.Tensor: shape=(1, 1, 1, 1, 1, 1, 1, 50), dtype=float32, numpy=\n",
       "array([[[[[[[[0.7220572 , 0.00237656, 0.5817461 , 0.751127  ,\n",
       "              0.1887815 , 0.47284234, 0.830673  , 0.64926565,\n",
       "              0.77432203, 0.55785537, 0.63808966, 0.18248618,\n",
       "              0.7759588 , 0.38043547, 0.56337035, 0.23124957,\n",
       "              0.6112344 , 0.5396904 , 0.99303174, 0.5368563 ,\n",
       "              0.3361324 , 0.19769335, 0.7426684 , 0.0513643 ,\n",
       "              0.29809177, 0.47838068, 0.2531755 , 0.3751533 ,\n",
       "              0.39183843, 0.20878577, 0.34096265, 0.18895125,\n",
       "              0.63220406, 0.2749598 , 0.6951281 , 0.6170443 ,\n",
       "              0.13010955, 0.04733598, 0.3024807 , 0.33782935,\n",
       "              0.9893203 , 0.13015342, 0.52003145, 0.0784502 ,\n",
       "              0.08524942, 0.47915113, 0.24657726, 0.6371572 ,\n",
       "              0.83935106, 0.43295765]]]]]]]], dtype=float32)>"
      ]
     },
     "execution_count": 37,
     "metadata": {},
     "output_type": "execute_result"
    }
   ],
   "source": [
    "T = tf.random.uniform(shape=(1,1,1,1,1,1,1,50))\n",
    "T"
   ]
  },
  {
   "cell_type": "code",
   "execution_count": 38,
   "metadata": {},
   "outputs": [
    {
     "data": {
      "text/plain": [
       "<tf.Tensor: shape=(50,), dtype=float32, numpy=\n",
       "array([0.7220572 , 0.00237656, 0.5817461 , 0.751127  , 0.1887815 ,\n",
       "       0.47284234, 0.830673  , 0.64926565, 0.77432203, 0.55785537,\n",
       "       0.63808966, 0.18248618, 0.7759588 , 0.38043547, 0.56337035,\n",
       "       0.23124957, 0.6112344 , 0.5396904 , 0.99303174, 0.5368563 ,\n",
       "       0.3361324 , 0.19769335, 0.7426684 , 0.0513643 , 0.29809177,\n",
       "       0.47838068, 0.2531755 , 0.3751533 , 0.39183843, 0.20878577,\n",
       "       0.34096265, 0.18895125, 0.63220406, 0.2749598 , 0.6951281 ,\n",
       "       0.6170443 , 0.13010955, 0.04733598, 0.3024807 , 0.33782935,\n",
       "       0.9893203 , 0.13015342, 0.52003145, 0.0784502 , 0.08524942,\n",
       "       0.47915113, 0.24657726, 0.6371572 , 0.83935106, 0.43295765],\n",
       "      dtype=float32)>"
      ]
     },
     "execution_count": 38,
     "metadata": {},
     "output_type": "execute_result"
    }
   ],
   "source": [
    "tf.squeeze(T)"
   ]
  },
  {
   "cell_type": "code",
   "execution_count": 40,
   "metadata": {},
   "outputs": [
    {
     "data": {
      "text/plain": [
       "<tf.Tensor: shape=(6, 6), dtype=float32, numpy=\n",
       "array([[1., 0., 0., 0., 0., 0.],\n",
       "       [0., 1., 0., 0., 0., 0.],\n",
       "       [0., 0., 1., 0., 0., 0.],\n",
       "       [0., 0., 0., 1., 0., 0.],\n",
       "       [0., 0., 0., 0., 1., 0.],\n",
       "       [0., 0., 0., 0., 0., 1.]], dtype=float32)>"
      ]
     },
     "execution_count": 40,
     "metadata": {},
     "output_type": "execute_result"
    }
   ],
   "source": [
    "## ONE HOT ENCODING\n",
    "\n",
    "some_list = [0,1,2,3,4,5]\n",
    "\n",
    "tf.one_hot(some_list, depth=6)"
   ]
  },
  {
   "cell_type": "code",
   "execution_count": null,
   "metadata": {},
   "outputs": [],
   "source": []
  }
 ],
 "metadata": {
  "kernelspec": {
   "display_name": "base",
   "language": "python",
   "name": "python3"
  },
  "language_info": {
   "codemirror_mode": {
    "name": "ipython",
    "version": 3
   },
   "file_extension": ".py",
   "mimetype": "text/x-python",
   "name": "python",
   "nbconvert_exporter": "python",
   "pygments_lexer": "ipython3",
   "version": "3.12.4"
  }
 },
 "nbformat": 4,
 "nbformat_minor": 2
}
